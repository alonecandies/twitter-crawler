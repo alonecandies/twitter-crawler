{
 "cells": [
  {
   "cell_type": "code",
   "execution_count": 1,
   "metadata": {},
   "outputs": [],
   "source": [
    "from twittercrawler.crawler import TwitterCrawler\n",
    "from twittercrawler.utils import load_json_result\n",
    "import twittercrawler.search as su"
   ]
  },
  {
   "cell_type": "markdown",
   "metadata": {},
   "source": [
    "# 1. Setup TwitterCrawler"
   ]
  },
  {
   "cell_type": "markdown",
   "metadata": {},
   "source": [
    "### Initialize and authenticate TwitterCrawler"
   ]
  },
  {
   "cell_type": "code",
   "execution_count": null,
   "metadata": {
    "collapsed": true
   },
   "outputs": [],
   "source": [
    "time_frame = 15*60\n",
    "max_request_in_time_frame = 400"
   ]
  },
  {
   "cell_type": "code",
   "execution_count": null,
   "metadata": {},
   "outputs": [],
   "source": [
    "tcs = TwitterCrawler(time_frame=time_frame,max_requests=max_request_in_time_frame)"
   ]
  },
  {
   "cell_type": "markdown",
   "metadata": {},
   "source": [
    "### Connect to MongoDB collection"
   ]
  },
  {
   "cell_type": "code",
   "execution_count": null,
   "metadata": {},
   "outputs": [],
   "source": [
    "tcs.connect_to_mongodb(collection_name=\"raw\", port=27017, db_name=\"twitter-crawler\")"
   ]
  },
  {
   "cell_type": "markdown",
   "metadata": {},
   "source": [
    "### Authenticate TwitterCrawler"
   ]
  },
  {
   "cell_type": "code",
   "execution_count": null,
   "metadata": {},
   "outputs": [],
   "source": [
    "tcs.authenticate(\"../api_key.json\")"
   ]
  },
  {
   "cell_type": "markdown",
   "metadata": {},
   "source": [
    "# 2. Search for events"
   ]
  },
  {
   "cell_type": "markdown",
   "metadata": {},
   "source": [
    "## i.) Set search parameters"
   ]
  },
  {
   "cell_type": "code",
   "execution_count": null,
   "metadata": {},
   "outputs": [],
   "source": [
    "query = \" OR \".join([\"@CNN\",\"@BBC\",\"@guardian\",\"@nytimes\",\"#BREAKING\"])"
   ]
  },
  {
   "cell_type": "code",
   "execution_count": null,
   "metadata": {},
   "outputs": [],
   "source": [
    "search_params = {\n",
    "    \"q\":query,\n",
    "    \"result_type\":'recent',\n",
    "    \"count\":100\n",
    "}"
   ]
  },
  {
   "cell_type": "code",
   "execution_count": null,
   "metadata": {},
   "outputs": [],
   "source": [
    "tcs.set_search_arguments(search_args=search_params)"
   ]
  },
  {
   "cell_type": "markdown",
   "metadata": {},
   "source": [
    "## ii.) Implement your custom filter functions if needed"
   ]
  },
  {
   "cell_type": "code",
   "execution_count": null,
   "metadata": {
    "collapsed": true
   },
   "outputs": [],
   "source": [
    "my_since_id = 870285658723684355\n",
    "def my_since_id_filter(tweet):\n",
    "    return su.id_bound_fiter(tweet, since_id=my_since_id)"
   ]
  },
  {
   "cell_type": "code",
   "execution_count": null,
   "metadata": {
    "collapsed": true
   },
   "outputs": [],
   "source": [
    "my_created_at=\"Thu Jun 01 00:00:00 +0000 2017\"\n",
    "def my_time_bound_filter(tweet):\n",
    "    return su.time_bound_filter(tweet, created_at=my_created_at)"
   ]
  },
  {
   "cell_type": "markdown",
   "metadata": {},
   "source": [
    "## iii.) Run search\n",
    "\n",
    "There are two different search strategies available"
   ]
  },
  {
   "cell_type": "markdown",
   "metadata": {},
   "source": [
    "### a.) Recursive search\n",
    "\n",
    "   * Here your search starts at a specific time. It is the current time if you does not set any **current_max_id** parameter\n",
    "   * Then the search tries to explore past events that match your search parameters\n",
    "   * The search terminates if you:\n",
    "      * set **custom_since_id**: events with smaller id won't be returned\n",
    "      **OR**\n",
    "      * set **term_func**: events older than the first event that matches this termination function won't be returned. For example you can set a time lower bound for your search.\n",
    "      * all events matching your search parameters have been returned\n",
    "      * **interrupt the execution**"
   ]
  },
  {
   "cell_type": "markdown",
   "metadata": {},
   "source": [
    "#### Terminate by since_id"
   ]
  },
  {
   "cell_type": "code",
   "execution_count": null,
   "metadata": {
    "collapsed": true
   },
   "outputs": [],
   "source": [
    "tcs.search_by_query(wait_for=3, custom_since_id=870285658723684355, feedback_time=10*60)"
   ]
  },
  {
   "cell_type": "markdown",
   "metadata": {},
   "source": [
    "#### Terminate by custom termination function "
   ]
  },
  {
   "cell_type": "code",
   "execution_count": null,
   "metadata": {
    "collapsed": true
   },
   "outputs": [],
   "source": [
    "tcs.search_by_query(wait_for=3, term_func=my_since_id_filter, feedback_time=10*60)"
   ]
  },
  {
   "cell_type": "code",
   "execution_count": null,
   "metadata": {},
   "outputs": [],
   "source": [
    "tcs.search_by_query(wait_for=3, term_func=my_time_bound_filter, feedback_time=10*60)"
   ]
  },
  {
   "cell_type": "markdown",
   "metadata": {},
   "source": [
    "### b.) Stream search\n",
    "\n",
    "   * This search starts with a recursive search, which goes back into the past until an event matches the termination function.\n",
    "   * Then the search jumps back to the present and starts a new recursive search until all events are recovered since the starting time of the previous recursive search etc.\n",
    "   * The search terminates if you:\n",
    "      * **interrupt the execution**\n",
    "   * This type of search can be used to follow ongoing events"
   ]
  },
  {
   "cell_type": "code",
   "execution_count": null,
   "metadata": {},
   "outputs": [],
   "source": [
    "tcs.stream_search(delta_t=120, termination_func=my_time_bound_filter,feedback_time=60)"
   ]
  },
  {
   "cell_type": "code",
   "execution_count": null,
   "metadata": {},
   "outputs": [],
   "source": [
    "tcs.close()"
   ]
  }
 ],
 "metadata": {
  "anaconda-cloud": {},
  "kernelspec": {
   "display_name": "Python [conda env:dm-3-env]",
   "language": "python",
   "name": "conda-env-dm-3-env-py"
  },
  "language_info": {
   "codemirror_mode": {
    "name": "ipython",
    "version": 3
   },
   "file_extension": ".py",
   "mimetype": "text/x-python",
   "name": "python",
   "nbconvert_exporter": "python",
   "pygments_lexer": "ipython3",
   "version": "3.5.5"
  },
  "toc": {
   "base_numbering": 1,
   "nav_menu": {},
   "number_sections": true,
   "sideBar": true,
   "skip_h1_title": false,
   "title_cell": "Table of Contents",
   "title_sidebar": "Contents",
   "toc_cell": false,
   "toc_position": {},
   "toc_section_display": true,
   "toc_window_display": false
  }
 },
 "nbformat": 4,
 "nbformat_minor": 1
}
