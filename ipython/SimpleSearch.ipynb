{
 "cells": [
  {
   "cell_type": "code",
   "execution_count": null,
   "metadata": {},
   "outputs": [],
   "source": [
    "from twittercrawler.crawler import TwitterCrawler\n",
    "from twittercrawler.utils import load_json_result\n",
    "import twittercrawler.search as su"
   ]
  },
  {
   "cell_type": "markdown",
   "metadata": {},
   "source": [
    "# 1. Setup TwitterCrawler"
   ]
  },
  {
   "cell_type": "markdown",
   "metadata": {},
   "source": [
    "### Initialize and authenticate TwitterCrawler"
   ]
  },
  {
   "cell_type": "code",
   "execution_count": null,
   "metadata": {},
   "outputs": [],
   "source": [
    "time_frame = 15*60 # time frame is set to 15 minutes\n",
    "max_request_in_time_frame = 50 # query Twitter API no more than 50 times per 15 minutes"
   ]
  },
  {
   "cell_type": "code",
   "execution_count": null,
   "metadata": {},
   "outputs": [],
   "source": [
    "tcs = TwitterCrawler(time_frame=time_frame,max_requests=max_request_in_time_frame)"
   ]
  },
  {
   "cell_type": "markdown",
   "metadata": {},
   "source": [
    "### Connect to a file\n",
    "\n",
    "   * Tweets will be written to this file\n",
    "   * If the file exists then new content will be appended to the file"
   ]
  },
  {
   "cell_type": "code",
   "execution_count": null,
   "metadata": {},
   "outputs": [],
   "source": [
    "tcs.connect_to_file(\"sample.txt\") # export collected tweets and retweets to 'sample.txt'"
   ]
  },
  {
   "cell_type": "markdown",
   "metadata": {},
   "source": [
    "### Authenticate TwitterCrawler"
   ]
  },
  {
   "cell_type": "code",
   "execution_count": null,
   "metadata": {},
   "outputs": [],
   "source": [
    "tcs.authenticate(\"../api_key.json\") # your API keys in a JSON file (see format sample in the main README)"
   ]
  },
  {
   "cell_type": "markdown",
   "metadata": {},
   "source": [
    "# 2. Search for events"
   ]
  },
  {
   "cell_type": "markdown",
   "metadata": {},
   "source": [
    "## i.) Set search parameters"
   ]
  },
  {
   "cell_type": "code",
   "execution_count": null,
   "metadata": {},
   "outputs": [],
   "source": [
    "query = \" OR \".join([\"@CNN\",\"@BBC\",\"@guardian\",\"@nytimes\",\"#BREAKING\"])"
   ]
  },
  {
   "cell_type": "code",
   "execution_count": null,
   "metadata": {},
   "outputs": [],
   "source": [
    "search_params = {\n",
    "    \"q\":query,\n",
    "    \"result_type\":'recent',\n",
    "    \"count\":100\n",
    "}"
   ]
  },
  {
   "cell_type": "code",
   "execution_count": null,
   "metadata": {},
   "outputs": [],
   "source": [
    "tcs.set_search_arguments(search_args=search_params)"
   ]
  },
  {
   "cell_type": "markdown",
   "metadata": {},
   "source": [
    "## ii.) Implement filter function based on time"
   ]
  },
  {
   "cell_type": "code",
   "execution_count": null,
   "metadata": {},
   "outputs": [],
   "source": [
    "my_created_at=\"Mon Feb 12 00:00:00 +0000 2018\"\n",
    "def my_time_bound_filter(tweet):\n",
    "    return su.time_bound_filter(tweet, created_at=my_created_at)"
   ]
  },
  {
   "cell_type": "markdown",
   "metadata": {},
   "source": [
    "## iii.) Recursive search\n",
    "\n",
    "   * Here your search starts at a specific time. It is the current time if you does not set any **current_max_id** parameter\n",
    "   * Then the search tries to explore past events that match your search parameters\n",
    "   * The search terminates if you:\n",
    "      * set **term_func**: events older than the first event that matches this termination function won't be returned. For example you can set a time lower bound for your search.\n",
    "      * all events matching your search parameters have been returned\n",
    "      * **interrupt the execution**"
   ]
  },
  {
   "cell_type": "code",
   "execution_count": null,
   "metadata": {},
   "outputs": [],
   "source": [
    "tcs.search_by_query(wait_for=3, term_func=my_time_bound_filter, feedback_time=60)"
   ]
  },
  {
   "cell_type": "code",
   "execution_count": null,
   "metadata": {},
   "outputs": [],
   "source": [
    "tcs.close()"
   ]
  },
  {
   "cell_type": "markdown",
   "metadata": {},
   "source": [
    "# 3. Load exported messages"
   ]
  },
  {
   "cell_type": "code",
   "execution_count": null,
   "metadata": {},
   "outputs": [],
   "source": [
    "messages = load_json_result(\"sample.txt\")"
   ]
  },
  {
   "cell_type": "code",
   "execution_count": null,
   "metadata": {},
   "outputs": [],
   "source": [
    "msg = messages[0]"
   ]
  },
  {
   "cell_type": "code",
   "execution_count": null,
   "metadata": {},
   "outputs": [],
   "source": [
    "print(msg[\"created_at\"])\n",
    "print()\n",
    "print(msg[\"text\"])\n",
    "print()\n",
    "print(msg[\"user\"][\"name\"], msg[\"user\"][\"screen_name\"])"
   ]
  }
 ],
 "metadata": {
  "kernelspec": {
   "display_name": "Python [conda env:dm-3-env]",
   "language": "python",
   "name": "conda-env-dm-3-env-py"
  },
  "language_info": {
   "codemirror_mode": {
    "name": "ipython",
    "version": 3
   },
   "file_extension": ".py",
   "mimetype": "text/x-python",
   "name": "python",
   "nbconvert_exporter": "python",
   "pygments_lexer": "ipython3",
   "version": "3.5.5"
  },
  "toc": {
   "base_numbering": 1,
   "nav_menu": {},
   "number_sections": true,
   "sideBar": true,
   "skip_h1_title": false,
   "title_cell": "Table of Contents",
   "title_sidebar": "Contents",
   "toc_cell": false,
   "toc_position": {},
   "toc_section_display": true,
   "toc_window_display": false
  }
 },
 "nbformat": 4,
 "nbformat_minor": 2
}
