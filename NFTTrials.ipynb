{
 "cells": [
  {
   "cell_type": "code",
   "execution_count": 1,
   "id": "4d79fb30-2635-4b5e-aa88-1f8c4e3360b9",
   "metadata": {},
   "outputs": [],
   "source": [
    "%config IPCompleter.use_jedi=False"
   ]
  },
  {
   "cell_type": "markdown",
   "id": "33008a98-9efd-4c3c-a4a7-8de988647950",
   "metadata": {},
   "source": [
    "# Tweepy experiments"
   ]
  },
  {
   "cell_type": "code",
   "execution_count": 29,
   "id": "57b8321b-187f-4332-a19f-72cd92bee1e1",
   "metadata": {},
   "outputs": [],
   "source": [
    "import tweepy, json\n",
    "\n",
    "class BaseAgent():\n",
    "    def __init__(self, credentials, wait_on_rate_limit=True):\n",
    "        auth = tweepy.OAuth1UserHandler(\n",
    "            credentials[\"api_key\"], credentials[\"api_secret\"], credentials[\"access_token\"], credentials[\"access_token_secret\"]\n",
    "        )\n",
    "        self.api = tweepy.API(auth, wait_on_rate_limit=True, tweet_mode='')\n",
    "        \n",
    "class QueryUserConnections(BaseAgent):\n",
    "    def __init__(self, credentials, query_friends=True, wait_on_rate_limit=True):\n",
    "        super(QueryUserConnections, self).__init__(credentials, wait_on_rate_limit)\n",
    "        self.query_friends = query_friends\n",
    "        \n",
    "    def execute(self, screen_name):\n",
    "        if self.query_friends:\n",
    "            results = tweepy.Cursor(self.api.get_friend_ids, screen_name=screen_name).items()\n",
    "        else:\n",
    "            results = tweepy.Cursor(self.api.get_follower_ids, screen_name=screen_name).items()\n",
    "        user_ids = []\n",
    "        while True:\n",
    "            try:\n",
    "                user_id = next(results)\n",
    "            except tweepy.errors.TooManyRequests:\n",
    "                time.sleep(60*15)\n",
    "                user_id = next(results)\n",
    "            except StopIteration:\n",
    "                break\n",
    "            #print(user_id)\n",
    "            user_ids.append(user_id)\n",
    "        return user_ids\n",
    "        \n",
    "class LookupUserIds(BaseAgent):\n",
    "    def __init__(self, credentials, wait_on_rate_limit=True):\n",
    "        super(LookupUserIds, self).__init__(credentials, wait_on_rate_limit)\n",
    "        self.queue = []\n",
    "        \n",
    "    def add(self, queries, high_priority=False):\n",
    "        if high_priority:\n",
    "            self.queue = queries + self.queue\n",
    "        else:\n",
    "            self.queue += queries\n",
    "            \n",
    "    @property\n",
    "    def is_long(self):\n",
    "        return len(self.queue) > 100\n",
    "    \n",
    "    def __len__(self):\n",
    "        return len(self.queue)\n",
    "            \n",
    "    #TODO: make magic for exceptions...\n",
    "    def _make_query(self):\n",
    "        if self.is_long:\n",
    "            queries = self.queue[:100].copy()\n",
    "            self.queue = self.queue[100:]\n",
    "        else:\n",
    "            queries = self.queue.copy()\n",
    "            self.queue = []\n",
    "        queries = list(set(queries))\n",
    "        users = self.api.lookup_users(user_id=queries)\n",
    "        return users\n",
    "            \n",
    "    def execute(self, force=False):\n",
    "        users = []\n",
    "        if force:\n",
    "            while len(self.queue) > 0:\n",
    "                users += self._make_query()\n",
    "        else:\n",
    "            while self.is_long:\n",
    "                users += self._make_query()\n",
    "        return users"
   ]
  },
  {
   "cell_type": "code",
   "execution_count": 30,
   "id": "74b6c63f-b391-405b-92d7-4fc9502e82cd",
   "metadata": {},
   "outputs": [],
   "source": [
    "with open(\"api_key.json\") as f:\n",
    "    credentials = json.load(f)"
   ]
  },
  {
   "cell_type": "code",
   "execution_count": 31,
   "id": "523aa90d-4306-4a19-a5c3-3f2eea7cca46",
   "metadata": {},
   "outputs": [
    {
     "ename": "TypeError",
     "evalue": "__init__() got an unexpected keyword argument 'extended'",
     "output_type": "error",
     "traceback": [
      "\u001b[0;31m---------------------------------------------------------------------------\u001b[0m",
      "\u001b[0;31mTypeError\u001b[0m                                 Traceback (most recent call last)",
      "\u001b[0;32m<ipython-input-31-6047b4dcdddf>\u001b[0m in \u001b[0;36m<module>\u001b[0;34m\u001b[0m\n\u001b[0;32m----> 1\u001b[0;31m \u001b[0mfriend_agent\u001b[0m \u001b[0;34m=\u001b[0m \u001b[0mQueryUserConnections\u001b[0m\u001b[0;34m(\u001b[0m\u001b[0mcredentials\u001b[0m\u001b[0;34m)\u001b[0m\u001b[0;34m\u001b[0m\u001b[0;34m\u001b[0m\u001b[0m\n\u001b[0m\u001b[1;32m      2\u001b[0m \u001b[0mfollow_agent\u001b[0m \u001b[0;34m=\u001b[0m \u001b[0mQueryUserConnections\u001b[0m\u001b[0;34m(\u001b[0m\u001b[0mcredentials\u001b[0m\u001b[0;34m,\u001b[0m \u001b[0mquery_friends\u001b[0m\u001b[0;34m=\u001b[0m\u001b[0;32mFalse\u001b[0m\u001b[0;34m)\u001b[0m\u001b[0;34m\u001b[0m\u001b[0;34m\u001b[0m\u001b[0m\n\u001b[1;32m      3\u001b[0m \u001b[0muser_agent\u001b[0m \u001b[0;34m=\u001b[0m \u001b[0mLookupUserIds\u001b[0m\u001b[0;34m(\u001b[0m\u001b[0mcredentials\u001b[0m\u001b[0;34m)\u001b[0m\u001b[0;34m\u001b[0m\u001b[0;34m\u001b[0m\u001b[0m\n",
      "\u001b[0;32m<ipython-input-29-23d115aeb1b3>\u001b[0m in \u001b[0;36m__init__\u001b[0;34m(self, credentials, query_friends, wait_on_rate_limit)\u001b[0m\n\u001b[1;32m     10\u001b[0m \u001b[0;32mclass\u001b[0m \u001b[0mQueryUserConnections\u001b[0m\u001b[0;34m(\u001b[0m\u001b[0mBaseAgent\u001b[0m\u001b[0;34m)\u001b[0m\u001b[0;34m:\u001b[0m\u001b[0;34m\u001b[0m\u001b[0;34m\u001b[0m\u001b[0m\n\u001b[1;32m     11\u001b[0m     \u001b[0;32mdef\u001b[0m \u001b[0m__init__\u001b[0m\u001b[0;34m(\u001b[0m\u001b[0mself\u001b[0m\u001b[0;34m,\u001b[0m \u001b[0mcredentials\u001b[0m\u001b[0;34m,\u001b[0m \u001b[0mquery_friends\u001b[0m\u001b[0;34m=\u001b[0m\u001b[0;32mTrue\u001b[0m\u001b[0;34m,\u001b[0m \u001b[0mwait_on_rate_limit\u001b[0m\u001b[0;34m=\u001b[0m\u001b[0;32mTrue\u001b[0m\u001b[0;34m)\u001b[0m\u001b[0;34m:\u001b[0m\u001b[0;34m\u001b[0m\u001b[0;34m\u001b[0m\u001b[0m\n\u001b[0;32m---> 12\u001b[0;31m         \u001b[0msuper\u001b[0m\u001b[0;34m(\u001b[0m\u001b[0mQueryUserConnections\u001b[0m\u001b[0;34m,\u001b[0m \u001b[0mself\u001b[0m\u001b[0;34m)\u001b[0m\u001b[0;34m.\u001b[0m\u001b[0m__init__\u001b[0m\u001b[0;34m(\u001b[0m\u001b[0mcredentials\u001b[0m\u001b[0;34m,\u001b[0m \u001b[0mwait_on_rate_limit\u001b[0m\u001b[0;34m)\u001b[0m\u001b[0;34m\u001b[0m\u001b[0;34m\u001b[0m\u001b[0m\n\u001b[0m\u001b[1;32m     13\u001b[0m         \u001b[0mself\u001b[0m\u001b[0;34m.\u001b[0m\u001b[0mquery_friends\u001b[0m \u001b[0;34m=\u001b[0m \u001b[0mquery_friends\u001b[0m\u001b[0;34m\u001b[0m\u001b[0;34m\u001b[0m\u001b[0m\n\u001b[1;32m     14\u001b[0m \u001b[0;34m\u001b[0m\u001b[0m\n",
      "\u001b[0;32m<ipython-input-29-23d115aeb1b3>\u001b[0m in \u001b[0;36m__init__\u001b[0;34m(self, credentials, wait_on_rate_limit)\u001b[0m\n\u001b[1;32m      6\u001b[0m             \u001b[0mcredentials\u001b[0m\u001b[0;34m[\u001b[0m\u001b[0;34m\"api_key\"\u001b[0m\u001b[0;34m]\u001b[0m\u001b[0;34m,\u001b[0m \u001b[0mcredentials\u001b[0m\u001b[0;34m[\u001b[0m\u001b[0;34m\"api_secret\"\u001b[0m\u001b[0;34m]\u001b[0m\u001b[0;34m,\u001b[0m \u001b[0mcredentials\u001b[0m\u001b[0;34m[\u001b[0m\u001b[0;34m\"access_token\"\u001b[0m\u001b[0;34m]\u001b[0m\u001b[0;34m,\u001b[0m \u001b[0mcredentials\u001b[0m\u001b[0;34m[\u001b[0m\u001b[0;34m\"access_token_secret\"\u001b[0m\u001b[0;34m]\u001b[0m\u001b[0;34m\u001b[0m\u001b[0;34m\u001b[0m\u001b[0m\n\u001b[1;32m      7\u001b[0m         )\n\u001b[0;32m----> 8\u001b[0;31m         \u001b[0mself\u001b[0m\u001b[0;34m.\u001b[0m\u001b[0mapi\u001b[0m \u001b[0;34m=\u001b[0m \u001b[0mtweepy\u001b[0m\u001b[0;34m.\u001b[0m\u001b[0mAPI\u001b[0m\u001b[0;34m(\u001b[0m\u001b[0mauth\u001b[0m\u001b[0;34m,\u001b[0m \u001b[0mwait_on_rate_limit\u001b[0m\u001b[0;34m=\u001b[0m\u001b[0;32mTrue\u001b[0m\u001b[0;34m,\u001b[0m \u001b[0mextended\u001b[0m\u001b[0;34m=\u001b[0m\u001b[0;32mTrue\u001b[0m\u001b[0;34m)\u001b[0m\u001b[0;34m\u001b[0m\u001b[0;34m\u001b[0m\u001b[0m\n\u001b[0m\u001b[1;32m      9\u001b[0m \u001b[0;34m\u001b[0m\u001b[0m\n\u001b[1;32m     10\u001b[0m \u001b[0;32mclass\u001b[0m \u001b[0mQueryUserConnections\u001b[0m\u001b[0;34m(\u001b[0m\u001b[0mBaseAgent\u001b[0m\u001b[0;34m)\u001b[0m\u001b[0;34m:\u001b[0m\u001b[0;34m\u001b[0m\u001b[0;34m\u001b[0m\u001b[0m\n",
      "\u001b[0;31mTypeError\u001b[0m: __init__() got an unexpected keyword argument 'extended'"
     ]
    }
   ],
   "source": [
    "friend_agent = QueryUserConnections(credentials)\n",
    "follow_agent = QueryUserConnections(credentials, query_friends=False)\n",
    "user_agent = LookupUserIds(credentials)"
   ]
  },
  {
   "cell_type": "code",
   "execution_count": 5,
   "id": "d25f1b31-77ad-47ab-95e0-c537ffe51e75",
   "metadata": {},
   "outputs": [
    {
     "data": {
      "text/plain": [
       "126"
      ]
     },
     "execution_count": 5,
     "metadata": {},
     "output_type": "execute_result"
    }
   ],
   "source": [
    "friend_ids = friend_agent.execute(\"ferencberes91\")\n",
    "len(friend_ids)"
   ]
  },
  {
   "cell_type": "code",
   "execution_count": 6,
   "id": "e354de4d-bb4e-4333-9d9c-0918e457dab1",
   "metadata": {},
   "outputs": [],
   "source": [
    "user_agent.add(friend_ids)"
   ]
  },
  {
   "cell_type": "code",
   "execution_count": 7,
   "id": "8cf030ac-1d40-4372-98a2-deb664203f1c",
   "metadata": {},
   "outputs": [
    {
     "data": {
      "text/plain": [
       "55"
      ]
     },
     "execution_count": 7,
     "metadata": {},
     "output_type": "execute_result"
    }
   ],
   "source": [
    "follow_ids = follow_agent.execute(\"ferencberes91\")\n",
    "len(follow_ids)"
   ]
  },
  {
   "cell_type": "code",
   "execution_count": 8,
   "id": "3ebf4193-f9d2-4270-a55c-56812007a6d6",
   "metadata": {},
   "outputs": [],
   "source": [
    "user_agent.add(follow_ids)"
   ]
  },
  {
   "cell_type": "code",
   "execution_count": 9,
   "id": "a5acb47c-bbb4-4029-a27c-1a52ac86375c",
   "metadata": {},
   "outputs": [
    {
     "data": {
      "text/plain": [
       "181"
      ]
     },
     "execution_count": 9,
     "metadata": {},
     "output_type": "execute_result"
    }
   ],
   "source": [
    "len(user_agent)"
   ]
  },
  {
   "cell_type": "code",
   "execution_count": 10,
   "id": "21ef953a-4f9c-45c6-a99e-2d44c7d70c15",
   "metadata": {},
   "outputs": [
    {
     "data": {
      "text/plain": [
       "176"
      ]
     },
     "execution_count": 10,
     "metadata": {},
     "output_type": "execute_result"
    }
   ],
   "source": [
    "users = user_agent.execute(force=True)\n",
    "len(users)"
   ]
  },
  {
   "cell_type": "code",
   "execution_count": 11,
   "id": "91dc2db9-6120-4136-9ea3-ac1057683c76",
   "metadata": {},
   "outputs": [
    {
     "data": {
      "text/plain": [
       "'paulmorio'"
      ]
     },
     "execution_count": 11,
     "metadata": {},
     "output_type": "execute_result"
    }
   ],
   "source": [
    "users[0].screen_name"
   ]
  },
  {
   "cell_type": "markdown",
   "id": "db1e270d-f00b-4960-bf33-4506c5b3517c",
   "metadata": {},
   "source": [
    "#### Notes: környezet felderítése\n",
    "- friend-eket mindig lekérjük - gyorsan megy (jellemzi a user-t)\n",
    "- followerek: itt csak azokat kérjük le akik az adatban több fiókot is követnek - (pl. MAC esetén nem fogunk 500K fiókot lekérdezni...)"
   ]
  },
  {
   "cell_type": "code",
   "execution_count": 48,
   "id": "ee37189a",
   "metadata": {},
   "outputs": [],
   "source": [
    "api = friend_agent.api"
   ]
  },
  {
   "cell_type": "code",
   "execution_count": 53,
   "id": "a0d3f156",
   "metadata": {},
   "outputs": [],
   "source": [
    "query = {\n",
    "    \"screen_name\":\"ferencberes91\", \n",
    "    \"tweet_mode\":'extended'\n",
    "}"
   ]
  },
  {
   "cell_type": "code",
   "execution_count": 54,
   "id": "d3b7f151-275e-4bf7-be0c-57b955c97d23",
   "metadata": {},
   "outputs": [
    {
     "name": "stderr",
     "output_type": "stream",
     "text": [
      "Unexpected parameter: screen_name\n"
     ]
    }
   ],
   "source": [
    "mentions = api.mentions_timeline(**query)"
   ]
  },
  {
   "cell_type": "code",
   "execution_count": 55,
   "id": "f09e374b",
   "metadata": {},
   "outputs": [
    {
     "data": {
      "text/plain": [
       "\"Yesterday, I implemented the k-Center attachment strategy. \\n\\nToday, I'm going to use the simulator developed by @ferencberes91 to compare my MBI algorithm to several other attachment strategies in terms of daily traffic and income.\""
      ]
     },
     "execution_count": 55,
     "metadata": {},
     "output_type": "execute_result"
    }
   ],
   "source": [
    "mentions[0]._json[\"full_text\"]"
   ]
  },
  {
   "cell_type": "markdown",
   "id": "40bf0b5f",
   "metadata": {},
   "source": [
    "#### User status is alwys up to date... for past tweets the past user state is hidden..."
   ]
  },
  {
   "cell_type": "code",
   "execution_count": 56,
   "id": "20615234",
   "metadata": {},
   "outputs": [],
   "source": [
    "timeline = api.user_timeline(**query)"
   ]
  },
  {
   "cell_type": "code",
   "execution_count": 63,
   "id": "eacdeb5d",
   "metadata": {},
   "outputs": [
    {
     "data": {
      "text/plain": [
       "{'created_at': 'Sun Dec 05 19:16:42 +0000 2021',\n",
       " 'id': 1467573664501616647,\n",
       " 'id_str': '1467573664501616647',\n",
       " 'full_text': '@benrozemberczki @EdiDataScience @InfAtEd Congratulations! :)',\n",
       " 'truncated': False,\n",
       " 'display_text_range': [42, 61],\n",
       " 'entities': {'hashtags': [],\n",
       "  'symbols': [],\n",
       "  'user_mentions': [{'screen_name': 'benrozemberczki',\n",
       "    'name': 'Benedek Rozemberczki',\n",
       "    'id': 1093290008902021120,\n",
       "    'id_str': '1093290008902021120',\n",
       "    'indices': [0, 16]},\n",
       "   {'screen_name': 'EdiDataScience',\n",
       "    'name': 'CDT in Data Science',\n",
       "    'id': 2208890396,\n",
       "    'id_str': '2208890396',\n",
       "    'indices': [17, 32]},\n",
       "   {'screen_name': 'InfAtEd',\n",
       "    'name': 'InformaticsEdinburgh',\n",
       "    'id': 90873580,\n",
       "    'id_str': '90873580',\n",
       "    'indices': [33, 41]}],\n",
       "  'urls': []},\n",
       " 'source': '<a href=\"http://twitter.com/download/android\" rel=\"nofollow\">Twitter for Android</a>',\n",
       " 'in_reply_to_status_id': 1467466820496068613,\n",
       " 'in_reply_to_status_id_str': '1467466820496068613',\n",
       " 'in_reply_to_user_id': 1093290008902021120,\n",
       " 'in_reply_to_user_id_str': '1093290008902021120',\n",
       " 'in_reply_to_screen_name': 'benrozemberczki',\n",
       " 'user': {'id': 737748119966879744,\n",
       "  'id_str': '737748119966879744',\n",
       "  'name': 'Ferenc Beres',\n",
       "  'screen_name': 'ferencberes91',\n",
       "  'location': 'Budapest, Magyarország',\n",
       "  'description': 'PhD student in network science & Data Scientist',\n",
       "  'url': None,\n",
       "  'entities': {'description': {'urls': []}},\n",
       "  'protected': False,\n",
       "  'followers_count': 55,\n",
       "  'friends_count': 126,\n",
       "  'listed_count': 0,\n",
       "  'created_at': 'Tue May 31 20:50:33 +0000 2016',\n",
       "  'favourites_count': 266,\n",
       "  'utc_offset': None,\n",
       "  'time_zone': None,\n",
       "  'geo_enabled': False,\n",
       "  'verified': False,\n",
       "  'statuses_count': 39,\n",
       "  'lang': None,\n",
       "  'contributors_enabled': False,\n",
       "  'is_translator': False,\n",
       "  'is_translation_enabled': False,\n",
       "  'profile_background_color': 'F5F8FA',\n",
       "  'profile_background_image_url': None,\n",
       "  'profile_background_image_url_https': None,\n",
       "  'profile_background_tile': False,\n",
       "  'profile_image_url': 'http://pbs.twimg.com/profile_images/738820899412004864/4GsZ_bo7_normal.jpg',\n",
       "  'profile_image_url_https': 'https://pbs.twimg.com/profile_images/738820899412004864/4GsZ_bo7_normal.jpg',\n",
       "  'profile_banner_url': 'https://pbs.twimg.com/profile_banners/737748119966879744/1583758063',\n",
       "  'profile_link_color': '1DA1F2',\n",
       "  'profile_sidebar_border_color': 'C0DEED',\n",
       "  'profile_sidebar_fill_color': 'DDEEF6',\n",
       "  'profile_text_color': '333333',\n",
       "  'profile_use_background_image': True,\n",
       "  'has_extended_profile': False,\n",
       "  'default_profile': True,\n",
       "  'default_profile_image': False,\n",
       "  'following': False,\n",
       "  'follow_request_sent': False,\n",
       "  'notifications': False,\n",
       "  'translator_type': 'none',\n",
       "  'withheld_in_countries': []},\n",
       " 'geo': None,\n",
       " 'coordinates': None,\n",
       " 'place': None,\n",
       " 'contributors': None,\n",
       " 'is_quote_status': False,\n",
       " 'retweet_count': 0,\n",
       " 'favorite_count': 0,\n",
       " 'favorited': False,\n",
       " 'retweeted': False,\n",
       " 'lang': 'en'}"
      ]
     },
     "execution_count": 63,
     "metadata": {},
     "output_type": "execute_result"
    }
   ],
   "source": [
    "timeline[0]._json"
   ]
  },
  {
   "cell_type": "code",
   "execution_count": null,
   "id": "cf09d7f0",
   "metadata": {},
   "outputs": [],
   "source": []
  }
 ],
 "metadata": {
  "kernelspec": {
   "display_name": "Python [conda env:twittercrawler] *",
   "language": "python",
   "name": "conda-env-twittercrawler-py"
  },
  "language_info": {
   "codemirror_mode": {
    "name": "ipython",
    "version": 3
   },
   "file_extension": ".py",
   "mimetype": "text/x-python",
   "name": "python",
   "nbconvert_exporter": "python",
   "pygments_lexer": "ipython3",
   "version": "3.7.10"
  }
 },
 "nbformat": 4,
 "nbformat_minor": 5
}
