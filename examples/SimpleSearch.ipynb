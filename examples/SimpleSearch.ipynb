{
 "cells": [
  {
   "cell_type": "code",
   "execution_count": 1,
   "metadata": {
    "collapsed": true
   },
   "outputs": [],
   "source": [
    "from twittercrawler.crawlers import RecursiveCrawler\n",
    "from twittercrawler.search import get_time_termination\n",
    "from twittercrawler.utils import load_json_result"
   ]
  },
  {
   "cell_type": "markdown",
   "metadata": {},
   "source": [
    "# 1. Setup TwitterCrawler"
   ]
  },
  {
   "cell_type": "markdown",
   "metadata": {},
   "source": [
    "### Initialize and authenticate TwitterCrawler"
   ]
  },
  {
   "cell_type": "code",
   "execution_count": 2,
   "metadata": {
    "collapsed": true
   },
   "outputs": [],
   "source": [
    "tcs = RecursiveCrawler()"
   ]
  },
  {
   "cell_type": "markdown",
   "metadata": {},
   "source": [
    "### Connect to a file\n",
    "\n",
    "   * Tweets will be written to this file\n",
    "   * If the file exists then new content will be appended to the file"
   ]
  },
  {
   "cell_type": "code",
   "execution_count": 3,
   "metadata": {
    "collapsed": true
   },
   "outputs": [],
   "source": [
    "tcs.connect_to_file(\"sample.txt\") # export collected tweets and retweets to 'sample.txt'"
   ]
  },
  {
   "cell_type": "markdown",
   "metadata": {},
   "source": [
    "### Authenticate TwitterCrawler"
   ]
  },
  {
   "cell_type": "code",
   "execution_count": 4,
   "metadata": {},
   "outputs": [
    {
     "name": "stdout",
     "output_type": "stream",
     "text": [
      "Authentication was successful!\n"
     ]
    }
   ],
   "source": [
    "tcs.authenticate(\"api_key.json\") # your API keys in a JSON file (see format sample in the main README)"
   ]
  },
  {
   "cell_type": "markdown",
   "metadata": {},
   "source": [
    "# 2. Search for events"
   ]
  },
  {
   "cell_type": "markdown",
   "metadata": {},
   "source": [
    "## i.) Set search parameters"
   ]
  },
  {
   "cell_type": "code",
   "execution_count": 5,
   "metadata": {
    "collapsed": true
   },
   "outputs": [],
   "source": [
    "query = \" OR \".join([\"@CNN\",\"@BBC\",\"@guardian\",\"@nytimes\",\"#BREAKING\"])"
   ]
  },
  {
   "cell_type": "code",
   "execution_count": 6,
   "metadata": {
    "collapsed": true
   },
   "outputs": [],
   "source": [
    "search_params = {\n",
    "    \"q\":query,\n",
    "    \"result_type\":'recent',\n",
    "    \"count\":100\n",
    "}"
   ]
  },
  {
   "cell_type": "code",
   "execution_count": 7,
   "metadata": {},
   "outputs": [
    {
     "name": "stdout",
     "output_type": "stream",
     "text": [
      "{'result_type': 'recent', 'q': '@CNN OR @BBC OR @guardian OR @nytimes OR #BREAKING', 'count': 100}\n"
     ]
    }
   ],
   "source": [
    "tcs.set_search_arguments(search_args=search_params)"
   ]
  },
  {
   "cell_type": "markdown",
   "metadata": {},
   "source": [
    "## ii.) Implement filter function based on time"
   ]
  },
  {
   "cell_type": "markdown",
   "metadata": {
    "collapsed": true
   },
   "source": [
    "my_created_at=\"Mon Feb 18 00:00:00 +0000 2020\"\n",
    "time_terminator =  get_time_termination(my_created_at)"
   ]
  },
  {
   "cell_type": "markdown",
   "metadata": {},
   "source": [
    "### termination (collect tweets from the last 5 minutes)"
   ]
  },
  {
   "cell_type": "code",
   "execution_count": 8,
   "metadata": {
    "collapsed": true
   },
   "outputs": [],
   "source": [
    "import datetime"
   ]
  },
  {
   "cell_type": "code",
   "execution_count": 9,
   "metadata": {},
   "outputs": [
    {
     "name": "stdout",
     "output_type": "stream",
     "text": [
      "Tue Feb 18 09:11:18 +0000 2020\n"
     ]
    }
   ],
   "source": [
    "now = datetime.datetime.now()\n",
    "time_str = (now-datetime.timedelta(seconds=300)).strftime(\"%a %b %d %H:%M:%S +0000 %Y\")\n",
    "print(time_str)\n",
    "time_terminator =  get_time_termination(time_str)"
   ]
  },
  {
   "cell_type": "markdown",
   "metadata": {},
   "source": [
    "## iii.) Recursive search\n",
    "\n",
    "   * Here your search starts at a specific time. It is the current time if you does not set any **current_max_id** parameter\n",
    "   * Then the search tries to explore past events that match your search parameters\n",
    "   * The search terminates if you:\n",
    "      * set **term_func**: events older than the first event that matches this termination function won't be returned. For example you can set a time lower bound for your search.\n",
    "      * all events matching your search parameters have been returned\n",
    "      * **interrupt the execution**"
   ]
  },
  {
   "cell_type": "code",
   "execution_count": 10,
   "metadata": {},
   "outputs": [
    {
     "name": "stdout",
     "output_type": "stream",
     "text": [
      "No former request were made!\n"
     ]
    },
    {
     "data": {
      "text/plain": [
       "(1229694847096934400, 1229696134957846528, 307)"
      ]
     },
     "execution_count": 10,
     "metadata": {},
     "output_type": "execute_result"
    }
   ],
   "source": [
    "tcs.search(wait_for=3, term_func=time_terminator, feedback_time=60)"
   ]
  },
  {
   "cell_type": "code",
   "execution_count": 11,
   "metadata": {},
   "outputs": [
    {
     "name": "stdout",
     "output_type": "stream",
     "text": [
      "Connection was closed successfully!\n"
     ]
    }
   ],
   "source": [
    "tcs.close()"
   ]
  },
  {
   "cell_type": "markdown",
   "metadata": {},
   "source": [
    "# 3. Load exported messages"
   ]
  },
  {
   "cell_type": "code",
   "execution_count": 12,
   "metadata": {},
   "outputs": [
    {
     "name": "stdout",
     "output_type": "stream",
     "text": [
      "Hits: 1807\n"
     ]
    }
   ],
   "source": [
    "messages = load_json_result(\"sample.txt\")\n",
    "print(\"Hits:\", len(messages))"
   ]
  },
  {
   "cell_type": "code",
   "execution_count": 13,
   "metadata": {},
   "outputs": [
    {
     "name": "stdout",
     "output_type": "stream",
     "text": [
      "Tue Feb 18 09:13:31 +0000 2020\n",
      "\n",
      "RT @clearticulation: @MeEf3112 @CraigGernhardt @al3zzaw @UNHumanRights @BBCWorld @guardian @CNN @Marwanhailan @Doranimated @azhardhia_80 @D…\n",
      "\n",
      "{'screen_name': 'Iraq_for_Iraqis', 'profile_sidebar_fill_color': 'DDEEF6', 'default_profile': True, 'followers_count': 560, 'entities': {'description': {'urls': []}}, 'is_translation_enabled': False, 'following': False, 'profile_image_url': 'http://pbs.twimg.com/profile_images/1200040058121834498/7FAhJxIN_normal.jpg', 'id': 1200039659205775360, 'description': 'العراق للعراقيين ✌🏻🇮🇶\\nIraq for Iraqis ✌🏻🇮🇶', 'lang': None, 'contributors_enabled': False, 'profile_text_color': '333333', 'statuses_count': 2808, 'protected': False, 'friends_count': 1982, 'has_extended_profile': False, 'notifications': False, 'created_at': 'Thu Nov 28 13:12:24 +0000 2019', 'follow_request_sent': False, 'favourites_count': 5041, 'is_translator': False, 'profile_use_background_image': True, 'profile_background_image_url': None, 'profile_link_color': '1DA1F2', 'time_zone': None, 'name': 'Iraqi', 'verified': False, 'url': None, 'profile_banner_url': 'https://pbs.twimg.com/profile_banners/1200039659205775360/1580344387', 'geo_enabled': False, 'location': '', 'translator_type': 'none', 'profile_background_image_url_https': None, 'profile_image_url_https': 'https://pbs.twimg.com/profile_images/1200040058121834498/7FAhJxIN_normal.jpg', 'utc_offset': None, 'default_profile_image': False, 'profile_background_tile': False, 'profile_sidebar_border_color': 'C0DEED', 'listed_count': 0, 'profile_background_color': 'F5F8FA', 'id_str': '1200039659205775360'}\n"
     ]
    }
   ],
   "source": [
    "print(messages[0][\"created_at\"])\n",
    "print()\n",
    "print(messages[0][\"text\"])\n",
    "print()\n",
    "print(messages[0][\"user\"])"
   ]
  },
  {
   "cell_type": "code",
   "execution_count": null,
   "metadata": {
    "collapsed": true
   },
   "outputs": [],
   "source": []
  }
 ],
 "metadata": {
  "kernelspec": {
   "display_name": "Python [conda env:dm-3-env]",
   "language": "python",
   "name": "conda-env-dm-3-env-py"
  },
  "language_info": {
   "codemirror_mode": {
    "name": "ipython",
    "version": 3
   },
   "file_extension": ".py",
   "mimetype": "text/x-python",
   "name": "python",
   "nbconvert_exporter": "python",
   "pygments_lexer": "ipython3",
   "version": "3.5.4"
  }
 },
 "nbformat": 4,
 "nbformat_minor": 2
}
