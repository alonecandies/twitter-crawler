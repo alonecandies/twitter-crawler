{
 "cells": [
  {
   "cell_type": "code",
   "execution_count": null,
   "metadata": {},
   "outputs": [],
   "source": [
    "import numpy as np\n",
    "import pandas as pd\n",
    "import os"
   ]
  },
  {
   "cell_type": "code",
   "execution_count": null,
   "metadata": {},
   "outputs": [],
   "source": [
    "from twittercrawler.replies.components import SearchEngine, UserTweetStore\n",
    "from twittercrawler.replies.query import TweetQuery"
   ]
  },
  {
   "cell_type": "markdown",
   "metadata": {},
   "source": [
    "from twittercrawler.crawlers import RecursiveCrawler\n",
    "crawler = RecursiveCrawler()\n",
    "crawler.authenticate(\"../api_key.json\")\n",
    "status = crawler.twitter_api.show_status(id=\"1347260116932976643\", tweet_mode=\"extended\")\n",
    "q = TweetQuery(status)\n",
    "print(q)"
   ]
  },
  {
   "cell_type": "markdown",
   "metadata": {},
   "source": [
    "store = UserTweetStore(\"alma\")\n",
    "store.update(q, q.since_id+10000000)\n",
    "store.save()\n",
    "store.user_intervals"
   ]
  },
  {
   "cell_type": "markdown",
   "metadata": {},
   "source": [
    "store_tmp = UserTweetStore(\"alma\")\n",
    "store_tmp.load()\n",
    "assert store_tmp.user_intervals == store.user_intervals\n",
    "store_tmp.reset()"
   ]
  },
  {
   "cell_type": "code",
   "execution_count": null,
   "metadata": {},
   "outputs": [],
   "source": [
    "from collections import deque\n",
    "\n",
    "class ReplyCollector():\n",
    "    def __init__(self, engine, tweet_id, min_engagement=5, postpone_day_limit=3, action_day_limit=5, drop_day_limit=7, reset=False, reload_status=True):\n",
    "        self.engine = engine\n",
    "        self.tweet_id = tweet_id\n",
    "        self.reset = reset\n",
    "        self.reload_status = reload_status\n",
    "        self.min_engagement = min_engagement\n",
    "        self.postpone_day_limit = postpone_day_limit\n",
    "        self.action_day_limit = action_day_limit\n",
    "        self.drop_day_limit = drop_day_limit\n",
    "        if self.reset:\n",
    "            #self.init()\n",
    "            self.engine.store.reset()\n",
    "        self.seed_tweet = self.engine.get_status(self.tweet_id)\n",
    "        self.tweet_thread = [self.seed_tweet]\n",
    "        print(self.seed_tweet['full_text'])\n",
    "        self._queue = deque([TweetQuery(self.seed_tweet)])\n",
    "        self.active_tweet_ids = []\n",
    "        #else:\n",
    "        #    raise NotImplementedError(\"TODO: collector loading and saving functionalities!!!\")\n",
    "        \n",
    "    #def init(self):\n",
    "    #    self.engine.store.reset()\n",
    "    #    self.seed_tweet = self.engine.get_status(self.tweet_id)\n",
    "    #    self.tweet_thread = [self.seed_tweet]\n",
    "    #    print(self.seed_tweet['full_text'])\n",
    "    #    self._queue = deque([TweetQuery(self.seed_tweet)])\n",
    "    #    self.active_tweet_ids = []\n",
    "        \n",
    "    @property\n",
    "    def queue(self):\n",
    "        return self._queue\n",
    "    \n",
    "    @property\n",
    "    def size(self):\n",
    "        return len(self.queue)\n",
    "    \n",
    "    @property\n",
    "    def active_queries(self):\n",
    "        return [q for q in self.queue if q.priority > 0]\n",
    "    \n",
    "    @property\n",
    "    def status(self):\n",
    "        self.engine.store.save()\n",
    "        return {\n",
    "            \"total_queries\": self.size,\n",
    "            \"remaining queries\": len(self.active_queries),\n",
    "            \"seed_tweet_id\": self.tweet_id,\n",
    "        }\n",
    "    \n",
    "    def _sort_queries(self):\n",
    "        self._queue = deque(sorted(self._queue, key=lambda x: x.priority, reverse=True))\n",
    "        \n",
    "    def _decide_execution(self, query):\n",
    "        if query.elapsed_days < self.postpone_day_limit:\n",
    "            execute_now = False\n",
    "        elif query.elapsed_days >= self.action_day_limit:\n",
    "            # here we try to catch the begining of each thread\n",
    "            execute_now = True\n",
    "        else:\n",
    "            if query.engagements >= self.min_engagement:\n",
    "                execute_now = True\n",
    "            else:\n",
    "                execute_now = False\n",
    "        return execute_now\n",
    "        \n",
    "    def run(self, feedback_interval=10, max_requests=1000):\n",
    "        i = 0\n",
    "        while len(self.queue) > 0:\n",
    "            query = self.queue.popleft()\n",
    "            if query.priority == 0:\n",
    "                self._queue.appendleft(query)\n",
    "                break\n",
    "            if self.reload_status and query.accessed_since_days > -1:\n",
    "                new_status = self.engine.get_status(query.id)\n",
    "                query.update_metrics(new_status)\n",
    "            print(query)\n",
    "            execute_now = self._decide_execution(query)\n",
    "            if execute_now:\n",
    "                success, new_query, replies = self.engine.execute(query)\n",
    "                print(query.id,len(replies))\n",
    "                self.tweet_thread += replies\n",
    "                df = pd.DataFrame(self.tweet_thread)\n",
    "                df.to_pickle(\"%s.pkl\" % self.tweet_id)\n",
    "                for reply in replies:\n",
    "                    q = TweetQuery(reply)\n",
    "                    if not q.id in self.active_tweet_ids:\n",
    "                        self._queue.append(q)\n",
    "                if new_query.elapsed_days < self.drop_day_limit:\n",
    "                    self._queue.append(new_query)\n",
    "                self._sort_queries()\n",
    "                if not success:\n",
    "                    break\n",
    "            else:\n",
    "                self._queue.append(query)\n",
    "            i += 1\n",
    "            if i % feedback_interval == 0:\n",
    "                print(\"\\n### STATUS ###\")\n",
    "                print(self.status)\n",
    "                print()\n",
    "            if i >= max_requests:\n",
    "                print(\"Exiting at %i executed queries!\" % max_requests)\n",
    "        print(self.status)"
   ]
  },
  {
   "cell_type": "markdown",
   "metadata": {},
   "source": [
    "# TODO\n",
    "\n",
    "- **export / load functions for store, collector etc.:**\n",
    "   - store: save user intervals\n",
    "   - collector: save tweet_thread\n",
    "- write a few tests...\n",
    "- include comet logging..."
   ]
  },
  {
   "cell_type": "code",
   "execution_count": null,
   "metadata": {},
   "outputs": [],
   "source": [
    "from twittercrawler.crawlers import RecursiveCrawler\n",
    "crawler = RecursiveCrawler()\n",
    "crawler.authenticate(\"../api_key.json\")\n",
    "store = UserTweetStore(\"test\")\n",
    "engine = SearchEngine(crawler, store)"
   ]
  },
  {
   "cell_type": "code",
   "execution_count": null,
   "metadata": {},
   "outputs": [],
   "source": [
    "tweet_ids = [\n",
    "    \"1346181687600939009\",#https://twitter.com/FogCityMidge/status/1346181687600939009\n",
    "    \"1346188735961038848\",#https://twitter.com/ThePlumLineGS/status/1346188735961038848\n",
    "    \"1346241519179718656\",#https://twitter.com/CNN/status/1346241519179718656\n",
    "    \"1346199928331251715\",#https://twitter.com/jennafarmeruk/status/1346199928331251715\n",
    "    \"1346189795261886472\",#https://twitter.com/BBCNews/status/1346189795261886472\n",
    "    \"1346149033279160323\",#https://twitter.com/MattHancock/status/1346149033279160323\n",
    "    \"1346242405465530368\",#https://twitter.com/TeaPainUSA/status/1346242405465530368 (new rumor)\n",
    "    \"1346106929140150273\",#https://twitter.com/nbcwashington/status/1346106929140150273\n",
    "    \"1345927336345137152\",#https://twitter.com/chipfranklin/status/1345927336345137152\n",
    "]"
   ]
  },
  {
   "cell_type": "code",
   "execution_count": null,
   "metadata": {},
   "outputs": [],
   "source": [
    "import time\n",
    "for tweet_id in tweet_ids:\n",
    "    collector = ReplyCollector(engine, tweet_id)\n",
    "    collector.run()\n",
    "    time.sleep(300)"
   ]
  },
  {
   "cell_type": "markdown",
   "metadata": {},
   "source": [
    "#https://twitter.com/hadleywickham/status/1347260334227259394\n",
    "collector = ReplyCollector(engine, \"1347260116932976643\", reset=True, min_engagement=1, postpone_day_limit=0, action_day_limit=1)\n",
    "collector.run()"
   ]
  },
  {
   "cell_type": "markdown",
   "metadata": {},
   "source": [
    "#https://twitter.com/nicvadivelu/status/1347267259266318336/photo/1\n",
    "collector = ReplyCollector(engine, \"1347267259266318336\", min_engagement=1, postpone_day_limit=0, action_day_limit=0, reset=True)\n",
    "collector.run()"
   ]
  },
  {
   "cell_type": "markdown",
   "metadata": {},
   "source": [
    "#https://twitter.com/Dr2NisreenAlwan/status/1347833203080523776\n",
    "collector = ReplyCollector(engine, \"1347833203080523776\", min_engagement=5, postpone_day_limit=0, action_day_limit=5, reset=False)\n",
    "collector.run()"
   ]
  },
  {
   "cell_type": "markdown",
   "metadata": {},
   "source": [
    "#https://twitter.com/indepdubnrth/status/1347979792839274499\n",
    "collector = ReplyCollector(engine, \"1347979792839274499\", min_engagement=5, postpone_day_limit=0, action_day_limit=5, reset=True)"
   ]
  },
  {
   "cell_type": "markdown",
   "metadata": {},
   "source": [
    "#https://twitter.com/RandPaul/status/1347930653904556036\n",
    "collector = ReplyCollector(engine, \"1347930653904556036\", min_engagement=5, postpone_day_limit=0, action_day_limit=5, reset=True)"
   ]
  },
  {
   "cell_type": "markdown",
   "metadata": {},
   "source": [
    "### TODO: stop after executing a few queries..."
   ]
  },
  {
   "cell_type": "code",
   "execution_count": null,
   "metadata": {},
   "outputs": [],
   "source": [
    "tweet_id = \"1347260116932976643\"\n",
    "#tweet_id = \"1347267259266318336\"\n",
    "#tweet_id = \"1347833203080523776\"\n",
    "#tweet_id = \"1347979792839274499\"\n",
    "#tweet_id = \"1347930653904556036\"\n",
    "thread_df = pd.read_pickle(\"%s.pkl\" % tweet_id)"
   ]
  },
  {
   "cell_type": "markdown",
   "metadata": {},
   "source": [
    "files = [f for f in os.listdir(\".\") if \".pkl\" in f]\n",
    "thread_df = pd.concat(pd.read_pickle(f) for f in files)\n",
    "thread_df.shape"
   ]
  },
  {
   "cell_type": "code",
   "execution_count": null,
   "metadata": {},
   "outputs": [],
   "source": [
    "#repliers = set()\n",
    "edges = []\n",
    "mentions = []\n",
    "#thread_events = sorted(collector.tweet_thread, key=lambda x: x[\"id\"])\n",
    "#for tw in thread_events:\n",
    "for _, tw in thread_df.iterrows():\n",
    "    if tw[\"in_reply_to_status_id_str\"] != None:\n",
    "        edges.append((tw[\"id_str\"],tw[\"in_reply_to_status_id_str\"]))\n",
    "        mentions.append((tw[\"user\"][\"id_str\"],tw[\"in_reply_to_user_id_str\"]))\n",
    "    #repliers.add(tw[\"user\"][\"screen_name\"])\n",
    "    #print(tw[\"user\"][\"screen_name\"], tw[\"created_at\"])\n",
    "    #print(tw[\"full_text\"])\n",
    "    #print()"
   ]
  },
  {
   "cell_type": "code",
   "execution_count": null,
   "metadata": {},
   "outputs": [],
   "source": [
    "import networkx as nx\n",
    "G = nx.DiGraph()\n",
    "H = nx.MultiDiGraph()\n",
    "G.add_edges_from(edges)\n",
    "_ = H.add_edges_from(mentions)"
   ]
  },
  {
   "cell_type": "code",
   "execution_count": null,
   "metadata": {},
   "outputs": [],
   "source": [
    "nx.draw(G, node_size=10)"
   ]
  },
  {
   "cell_type": "code",
   "execution_count": null,
   "metadata": {},
   "outputs": [],
   "source": [
    "nx.draw(H, node_size=10)"
   ]
  },
  {
   "cell_type": "markdown",
   "metadata": {},
   "source": [
    "### covid vaccine min_replies:100 until:2021-01-05 since:2021-01-04"
   ]
  },
  {
   "cell_type": "code",
   "execution_count": null,
   "metadata": {},
   "outputs": [],
   "source": []
  }
 ],
 "metadata": {
  "kernelspec": {
   "display_name": "Python 3",
   "language": "python",
   "name": "python3"
  },
  "language_info": {
   "codemirror_mode": {
    "name": "ipython",
    "version": 3
   },
   "file_extension": ".py",
   "mimetype": "text/x-python",
   "name": "python",
   "nbconvert_exporter": "python",
   "pygments_lexer": "ipython3",
   "version": "3.6.12"
  }
 },
 "nbformat": 4,
 "nbformat_minor": 4
}
