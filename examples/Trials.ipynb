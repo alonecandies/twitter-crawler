{
 "cells": [
  {
   "cell_type": "code",
   "execution_count": 1,
   "metadata": {},
   "outputs": [],
   "source": [
    "from twittercrawler.utils import tweet_time_2_epoch\n",
    "from datetime import datetime as dt\n",
    "import numpy as np\n",
    "import os"
   ]
  },
  {
   "cell_type": "code",
   "execution_count": 2,
   "metadata": {},
   "outputs": [],
   "source": [
    "class TweetQuery():\n",
    "    def __init__(self, tweet_dict):\n",
    "        self._id = tweet_dict.get(\"id_str\", None)\n",
    "        self._user_name = tweet_dict[\"user\"][\"screen_name\"] if \"user\" in tweet_dict else None\n",
    "        self._user_id = tweet_dict[\"user\"][\"id_str\"] if \"user\" in tweet_dict else None\n",
    "        self._epoch = tweet_time_2_epoch(tweet_dict[\"created_at\"]) if \"created_at\" in tweet_dict else None\n",
    "        self._likes = tweet_dict.get(\"favorite_count\", None)\n",
    "        self._retweets = tweet_dict.get(\"retweet_count\", None)\n",
    "        self._max_id = None\n",
    "        self._since_id = int(self._id) if self._id != None else None\n",
    "        self._last_access = None\n",
    "        \n",
    "    def set_epoch(self, epoch):\n",
    "        self._epoch = epoch\n",
    "        \n",
    "    def set_max_id(self, max_id):\n",
    "        self._max_id = max_id\n",
    "        \n",
    "    def set_since_id(self, since_id):\n",
    "        self._since_id = int(since_id)\n",
    "        \n",
    "    def mark_access(self):\n",
    "        self._last_access = dt.now()\n",
    "        \n",
    "    def copy(self):\n",
    "        params = {\n",
    "            \"id_str\":self.id,\n",
    "            \"favorite_count\":self.likes,\n",
    "            \"retweet_count\":self.retweets,\n",
    "            \"user\":{\n",
    "                \"id_str\": self.user_id,\n",
    "                \"screen_name\": self.user_name\n",
    "            }\n",
    "        }\n",
    "        copy_q = TweetQuery(params)\n",
    "        copy_q.set_epoch(self.epoch)\n",
    "        copy_q.set_max_id(self.max_id)\n",
    "        copy_q.set_since_id(self.since_id)\n",
    "        return copy_q\n",
    "        \n",
    "    def __repr__(self):\n",
    "        return \"(%s, %s, %s, %s, %i, %i, %s, %s)\" % (self.id, self.user_id, self.user_name, self.dt, self.likes, self.retweets, self.max_id, self.since_id)\n",
    "    \n",
    "    @property\n",
    "    def id(self):\n",
    "        return self._id\n",
    "    \n",
    "    @property\n",
    "    def user_name(self):\n",
    "        return self._user_name\n",
    "    \n",
    "    @property\n",
    "    def user_id(self):\n",
    "        return self._user_id\n",
    "    \n",
    "    @property\n",
    "    def epoch(self):\n",
    "        return self._epoch\n",
    "    \n",
    "    @property\n",
    "    def dt(self):\n",
    "        return dt.fromtimestamp(self.epoch)\n",
    "    \n",
    "    @property\n",
    "    def likes(self):\n",
    "        return self._likes\n",
    "    \n",
    "    @property\n",
    "    def retweets(self):\n",
    "        return self._retweets\n",
    "    \n",
    "    @property\n",
    "    def max_id(self):\n",
    "        return self._max_id\n",
    "    \n",
    "    @property\n",
    "    def since_id(self):\n",
    "        return self._since_id\n",
    "    \n",
    "    @property\n",
    "    def elapsed_days(self):\n",
    "        return (dt.now() - self.dt).days\n",
    "    \n",
    "    @property\n",
    "    def accessed_since_days(self):\n",
    "        if self._last_access == None:\n",
    "            return -1\n",
    "        else:\n",
    "            return (dt.now() - self._last_access).days\n",
    "        \n",
    "    @property\n",
    "    def priority(self):\n",
    "        if self.accessed_since_days == 0:\n",
    "            return 0.0\n",
    "        else:\n",
    "            return self.elapsed_days + np.log10(1.0+self.likes+self.retweets)"
   ]
  },
  {
   "cell_type": "code",
   "execution_count": 3,
   "metadata": {},
   "outputs": [],
   "source": [
    "class UserTweetStore():\n",
    "    def __init__(self):#dir_path):\n",
    "        #self._dir_path = dir_path\n",
    "        self.user_intervals = {}\n",
    "        \n",
    "    #@property\n",
    "    #def dir_path(self):\n",
    "    #    if not os.path.exists(self._dir_path):\n",
    "    #        os.makedirs(self._dir_path)\n",
    "    #    return self._dir_path\n",
    "    \n",
    "    def get_user(self, user_id):\n",
    "        return self.user_intervals.get(user_id, [None, None])\n",
    "    \n",
    "    def update(self, query, latest_id):\n",
    "        user_id = query.user_id\n",
    "        from_id, to_id = self.get_user(user_id)\n",
    "        if from_id == None:\n",
    "            from_id = int(query.id)\n",
    "        if to_id == None:\n",
    "            to_id = latest_id\n",
    "        elif latest_id > to_id:\n",
    "            to_id = latest_id\n",
    "        self.user_intervals[user_id] = [from_id, to_id]\n",
    "    \n",
    "    def adjust_query(self, query):\n",
    "        from_id, to_id = self.get_user(query.user_id)\n",
    "        if from_id != None:\n",
    "            if query.since_id < from_id:\n",
    "                raise RuntimeError(\"Queried tweet (%s, since_id: %i) preceeds oldest tweet (%i) for user_id %s)\" % (query.id, query.since_id, from_id, query.user_id))\n",
    "            else:\n",
    "                # avoid collecting the same data twice\n",
    "                query.set_since_id(to_id)\n",
    "        return query\n",
    "\n",
    "from twittercrawler.crawlers import RecursiveCrawler\n",
    "from twittercrawler.utils import load_json_result\n",
    "    \n",
    "class SearchEngine():\n",
    "    def __init__(self, reset=False, api_key_fp=\"../api_key.json\", output_fp=\"sample.txt\", tweet_mode=\"extended\"):\n",
    "        self.reset = reset\n",
    "        self.tweet_mode = tweet_mode\n",
    "        self.output_fp = output_fp\n",
    "        self.api_key_fp = api_key_fp\n",
    "        self.store = UserTweetStore()\n",
    "        self._init_crawler()\n",
    "        \n",
    "    def _init_crawler(self):\n",
    "        if self.reset and os.path.exists(self.output_fp):\n",
    "            os.remove(self.output_fp)\n",
    "            print(\"Engine output file was cleared!\")\n",
    "        self.crawler = RecursiveCrawler()\n",
    "        self.crawler.authenticate(self.api_key_fp)\n",
    "        \n",
    "    def get_status(self, tweet_id):\n",
    "        return self.crawler.twitter_api.show_status(id=tweet_id, tweet_mode=self.tweet_mode)\n",
    "        \n",
    "    def collect_replies(self, query, count=100, result_type='recent'):\n",
    "        search_params = {\n",
    "            \"q\" : \"to:%s\" % query.user_name,\n",
    "            \"result_type\" : result_type,\n",
    "            \"count\" : count,\n",
    "            \"tweet_mode\" : self.tweet_mode\n",
    "        }\n",
    "        #print(search_params, query.since_id)\n",
    "        self.crawler.connect_to_file(self.output_fp)# TODO: later rewise whteher to use multiple files for users\n",
    "        self.crawler.set_search_arguments(search_args=search_params)\n",
    "        if query.max_id != None:\n",
    "            result = self.crawler.search(wait_for=3, feedback_time=15, current_max_id=query.max_id, custom_since_id=query.since_id)\n",
    "        else:\n",
    "            result = self.crawler.search(wait_for=3, feedback_time=15, custom_since_id=query.since_id)\n",
    "        self.crawler.close()\n",
    "        return result\n",
    "    \n",
    "    def extract_replies(self, query):\n",
    "        reply_tweets = load_json_result(self.output_fp)\n",
    "        #print(\"Hits:\", len(reply_tweets))\n",
    "        replies = []\n",
    "        for tweet in reply_tweets:\n",
    "            replied_tweet = tweet.get(\"in_reply_to_status_id_str\", None)\n",
    "            if replied_tweet == query.id and tweet[\"id\"]:# > query.since_id:\n",
    "                replies.append(tweet)\n",
    "        return replies\n",
    "        \n",
    "    def execute(self, original_query):\n",
    "        query = self.store.adjust_query(original_query)\n",
    "        success, max_id, latest_id, cnt = self.collect_replies(query)\n",
    "        print(success, max_id, latest_id, cnt)\n",
    "        replies = self.extract_replies(query)\n",
    "        if success:\n",
    "            #print(\"\\nQuery was completed: %s\" % query)\n",
    "            query.mark_access()\n",
    "            if cnt > 0:\n",
    "                self.store.update(query, latest_id)\n",
    "                query.set_since_id(latest_id)\n",
    "                query.set_max_id(None)\n",
    "            #    print(\"New query: %s\\n\" % query)\n",
    "            #else:\n",
    "            #    print(\"Old query is kept!\\n\")\n",
    "        else:\n",
    "            #print(\"\\nQuery was interrupted: %s\" % query)\n",
    "            query.set_max_id(max_id)\n",
    "            #print(\"New query: %s\\n\" % query)\n",
    "        return success, query, replies\n",
    "        \n",
    "from collections import deque\n",
    "\n",
    "class ReplyCollector():\n",
    "    def __init__(self, tweet_id, retweet_limit=0, postpone_day_limit=3, action_day_limit=5, reset=False):\n",
    "        self.retweet_limit = retweet_limit\n",
    "        self.postpone_day_limit = postpone_day_limit\n",
    "        self.action_day_limit = action_day_limit\n",
    "        self.engine = SearchEngine(output_fp=\"%s.txt\" % tweet_id, reset=reset)\n",
    "        self.seed_tweet = self.engine.get_status(tweet_id)\n",
    "        self.tweet_thread = [self.seed_tweet]\n",
    "        print(self.seed_tweet['full_text'])\n",
    "        self._queue = deque([TweetQuery(self.seed_tweet)])\n",
    "        self.active_tweet_ids = []\n",
    "        \n",
    "    @property\n",
    "    def queue(self):\n",
    "        return self._queue\n",
    "    \n",
    "    def _sort_queries(self):\n",
    "        self._queue = deque(sorted(self._queue, key=lambda x: x.priority, reverse=True))\n",
    "        \n",
    "    #def sort_queries(self, queries):\n",
    "    #    return sorted(queries, key=lambda x: x.since_id)\n",
    "        \n",
    "    def _decide_execution(self, query):\n",
    "        if query.elapsed_days < self.postpone_day_limit:\n",
    "            execute_now = False\n",
    "        elif query.elapsed_days >= self.action_day_limit:\n",
    "            # here we try to catch the begining of each thread\n",
    "            execute_now = True\n",
    "        else:\n",
    "            if query.retweets >= self.retweet_limit:\n",
    "                execute_now = True\n",
    "            else:\n",
    "                execute_now = False\n",
    "        return execute_now\n",
    "        \n",
    "    def run(self):\n",
    "        while len(self.queue) > 0:\n",
    "            query = self.queue.popleft()\n",
    "            print(query)\n",
    "            if query.priority == 0:\n",
    "                self._queue.appendleft(query)\n",
    "                break\n",
    "            execute_now = self._decide_execution(query)\n",
    "            if execute_now:\n",
    "                success, new_query, replies = self.engine.execute(query)\n",
    "                print(query.id,len(replies))\n",
    "                self.tweet_thread += replies\n",
    "                for reply in replies:\n",
    "                    q = TweetQuery(reply)\n",
    "                    if not q.id in self.active_tweet_ids:\n",
    "                        self._queue.append(q)\n",
    "                self._queue.append(new_query)\n",
    "                self._sort_queries()\n",
    "                if not success:\n",
    "                    break\n",
    "                #print([q.priority for q in self.queue])\n",
    "            else:\n",
    "                self._queue.append(query)\n",
    "        # TODO: records are never deleted from the queue!!!"
   ]
  },
  {
   "cell_type": "code",
   "execution_count": 4,
   "metadata": {},
   "outputs": [
    {
     "name": "stdout",
     "output_type": "stream",
     "text": [
      "Engine output file was cleared!\n",
      "Authentication was successful!\n",
      "I'm starting to prepare for the release of rvest 1.0.0. It includes big improvements to text and table extraction, and a bunch of minor API improvements. If you're an rvest user, please try out the dev version and let me know how it goes: https://t.co/qgrtknYsIK #rstats\n"
     ]
    }
   ],
   "source": [
    "#https://twitter.com/hadleywickham/status/1347260334227259394\n",
    "collector = ReplyCollector(\"1347260116932976643\", retweet_limit=0, postpone_day_limit=0, action_day_limit=0, reset=True)"
   ]
  },
  {
   "cell_type": "markdown",
   "metadata": {},
   "source": [
    "#https://twitter.com/nicvadivelu/status/1347267259266318336/photo/1\n",
    "collector = ReplyCollector(\"1347267259266318336\", retweet_limit=0, postpone_day_limit=0, action_day_limit=0)"
   ]
  },
  {
   "cell_type": "markdown",
   "metadata": {},
   "source": [
    "#https://twitter.com/Dr2NisreenAlwan/status/1347833203080523776\n",
    "collector = ReplyCollector(\"1347833203080523776\", retweet_limit=0, postpone_day_limit=0, action_day_limit=0, reset=True)"
   ]
  },
  {
   "cell_type": "code",
   "execution_count": 5,
   "metadata": {},
   "outputs": [
    {
     "name": "stdout",
     "output_type": "stream",
     "text": [
      "(1347260116932976643, 69133574, hadleywickham, 2021-01-07 19:13:37, 498, 70, None, 1347260116932976643)\n",
      "{'q': 'to:hadleywickham', 'result_type': 'recent', 'count': 100, 'tweet_mode': 'extended'}\n",
      "Connection was closed successfully!\n",
      "True 1347260334227259394 1347958944011071489 13\n",
      "1347260116932976643 5\n",
      "(1347260334227259394, 69133574, hadleywickham, 2021-01-07 19:14:29, 237, 23, None, 1347260334227259394)\n",
      "{'q': 'to:hadleywickham', 'result_type': 'recent', 'count': 100, 'tweet_mode': 'extended'}\n",
      "Connection was closed successfully!\n",
      "True 0 -1 0\n",
      "1347260334227259394 2\n",
      "(1347262328073498626, 5685812, hrbrmstr, 2021-01-07 19:22:24, 4, 0, None, 1347262328073498626)\n",
      "{'q': 'to:hrbrmstr', 'result_type': 'recent', 'count': 100, 'tweet_mode': 'extended'}\n",
      "Connection was closed successfully!\n",
      "True 1347294100987539456 1347579078421880833 33\n",
      "1347262328073498626 0\n",
      "(1347261394396319747, 51333376, CICG, 2021-01-07 19:18:41, 1, 0, None, 1347261394396319747)\n",
      "{'q': 'to:CICG', 'result_type': 'recent', 'count': 100, 'tweet_mode': 'extended'}\n",
      "Connection was closed successfully!\n",
      "True 0 -1 0\n",
      "1347261394396319747 0\n",
      "(1347272901330874368, 920283659747446784, SRRAnalytics, 2021-01-07 20:04:25, 1, 0, None, 1347272901330874368)\n",
      "{'q': 'to:SRRAnalytics', 'result_type': 'recent', 'count': 100, 'tweet_mode': 'extended'}\n",
      "Connection was closed successfully!\n",
      "True 0 -1 0\n",
      "1347272901330874368 0\n",
      "(1347277242112606210, 1289624098071511040, JoseStoropoli, 2021-01-07 20:21:40, 0, 0, None, 1347277242112606210)\n",
      "{'q': 'to:JoseStoropoli', 'result_type': 'recent', 'count': 100, 'tweet_mode': 'extended'}\n",
      "Connection was closed successfully!\n",
      "True 1347292240713027584 1347292240713027584 1\n",
      "1347277242112606210 1\n",
      "(1347292240713027584, 1329230666001768448, clente_, 2021-01-07 21:21:16, 2, 0, None, 1347292240713027584)\n",
      "{'q': 'to:clente_', 'result_type': 'recent', 'count': 100, 'tweet_mode': 'extended'}\n",
      "Connection was closed successfully!\n",
      "True 1347293596127518726 1347293596127518726 1\n",
      "1347292240713027584 1\n",
      "(1347293596127518726, 53928638, brunocrotman, 2021-01-07 21:26:39, 0, 0, None, 1347293596127518726)\n",
      "{'q': 'to:brunocrotman', 'result_type': 'recent', 'count': 100, 'tweet_mode': 'extended'}\n",
      "Connection was closed successfully!\n",
      "True 1347297277132611585 1347631287163490304 6\n",
      "1347293596127518726 0\n",
      "(1347958944011071489, 2352257953, temurgugushvili, 2021-01-09 17:30:30, 0, 0, None, 1347958944011071489)\n"
     ]
    }
   ],
   "source": [
    "collector.run()"
   ]
  },
  {
   "cell_type": "markdown",
   "metadata": {},
   "source": [
    "#### Due to priority ordering!!! "
   ]
  },
  {
   "cell_type": "code",
   "execution_count": 6,
   "metadata": {},
   "outputs": [],
   "source": [
    "thread_events = sorted(collector.tweet_thread, key=lambda x: x[\"id\"])\n",
    "repliers = set()\n",
    "edges = []\n",
    "mentions = []\n",
    "for tw in thread_events:\n",
    "    if tw[\"in_reply_to_status_id_str\"] != None:\n",
    "        edges.append((tw[\"id_str\"],tw[\"in_reply_to_status_id_str\"]))\n",
    "        mentions.append((tw[\"user\"][\"id_str\"],tw[\"in_reply_to_user_id_str\"]))\n",
    "    #repliers.add(tw[\"user\"][\"screen_name\"])\n",
    "    #print(tw[\"user\"][\"screen_name\"], tw[\"created_at\"])\n",
    "    #print(tw[\"full_text\"])\n",
    "    #print()"
   ]
  },
  {
   "cell_type": "code",
   "execution_count": 7,
   "metadata": {},
   "outputs": [
    {
     "data": {
      "text/plain": [
       "9"
      ]
     },
     "execution_count": 7,
     "metadata": {},
     "output_type": "execute_result"
    }
   ],
   "source": [
    "len(edges)"
   ]
  },
  {
   "cell_type": "code",
   "execution_count": 8,
   "metadata": {},
   "outputs": [
    {
     "data": {
      "text/plain": [
       "10"
      ]
     },
     "execution_count": 8,
     "metadata": {},
     "output_type": "execute_result"
    }
   ],
   "source": [
    "len(collector.queue)"
   ]
  },
  {
   "cell_type": "code",
   "execution_count": 9,
   "metadata": {},
   "outputs": [],
   "source": [
    "import networkx as nx\n",
    "G = nx.DiGraph()\n",
    "H = nx.MultiDiGraph()\n",
    "G.add_edges_from(edges)\n",
    "_ = H.add_edges_from(mentions)"
   ]
  },
  {
   "cell_type": "code",
   "execution_count": 10,
   "metadata": {},
   "outputs": [
    {
     "data": {
      "image/png": "[encoded data removed]",
      "text/plain": [
       "<Figure size 432x288 with 1 Axes>"
      ]
     },
     "metadata": {},
     "output_type": "display_data"
    }
   ],
   "source": [
    "nx.draw(G, node_size=50)"
   ]
  },
  {
   "cell_type": "code",
   "execution_count": 11,
   "metadata": {},
   "outputs": [
    {
     "data": {
      "image/png": "[encoded data removed]",
      "text/plain": [
       "<Figure size 432x288 with 1 Axes>"
      ]
     },
     "metadata": {},
     "output_type": "display_data"
    }
   ],
   "source": [
    "nx.draw(H, node_size=50)"
   ]
  },
  {
   "cell_type": "code",
   "execution_count": null,
   "metadata": {},
   "outputs": [],
   "source": []
  }
 ],
 "metadata": {
  "kernelspec": {
   "display_name": "Python 3",
   "language": "python",
   "name": "python3"
  },
  "language_info": {
   "codemirror_mode": {
    "name": "ipython",
    "version": 3
   },
   "file_extension": ".py",
   "mimetype": "text/x-python",
   "name": "python",
   "nbconvert_exporter": "python",
   "pygments_lexer": "ipython3",
   "version": "3.6.12"
  }
 },
 "nbformat": 4,
 "nbformat_minor": 4
}
